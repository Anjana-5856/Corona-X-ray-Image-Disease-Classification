{
  "nbformat": 4,
  "nbformat_minor": 0,
  "metadata": {
    "colab": {
      "name": "covid_xray_image_classification_using_cnn.ipynb",
      "provenance": [],
      "collapsed_sections": []
    },
    "kernelspec": {
      "name": "python3",
      "display_name": "Python 3"
    },
    "language_info": {
      "name": "python"
    }
  },
  "cells": [
    {
      "cell_type": "code",
      "metadata": {
        "id": "jOGUVHZCAmgs"
      },
      "source": [
        "import tensorflow as tf\n",
        "import keras\n",
        "from tensorflow.keras.models import Sequential\n",
        "from tensorflow.keras.layers import Flatten\n",
        "from tensorflow.keras.layers import Dense\n",
        "from tensorflow.keras.layers import Conv2D\n",
        "from tensorflow.keras.layers import MaxPooling2D\n",
        "from tensorflow.keras.callbacks import TensorBoard"
      ],
      "execution_count": 1,
      "outputs": []
    },
    {
      "cell_type": "code",
      "metadata": {
        "colab": {
          "base_uri": "https://localhost:8080/"
        },
        "id": "49QyuJLeAuHi",
        "outputId": "85738a50-fb6c-4960-c4e5-3da1818a12d0"
      },
      "source": [
        "from google.colab import drive\n",
        "drive.mount('/content/drive/')"
      ],
      "execution_count": 2,
      "outputs": [
        {
          "output_type": "stream",
          "text": [
            "Drive already mounted at /content/drive/; to attempt to forcibly remount, call drive.mount(\"/content/drive/\", force_remount=True).\n"
          ],
          "name": "stdout"
        }
      ]
    },
    {
      "cell_type": "code",
      "metadata": {
        "id": "Qpmqb6U9BAEY"
      },
      "source": [
        "image_dir_path='/content/drive/MyDrive/covid-19/covid_dataset'\n",
        "data_generator=tf.keras.preprocessing.image.ImageDataGenerator(\n",
        "    rescale=1./255,\n",
        "    shear_range=0.2,\n",
        "    zoom_range=0.2,\n",
        "    horizontal_flip=True,\n",
        "    validation_split=0.2\n",
        ")"
      ],
      "execution_count": 3,
      "outputs": []
    },
    {
      "cell_type": "code",
      "metadata": {
        "colab": {
          "base_uri": "https://localhost:8080/"
        },
        "id": "FXK5WXVtBUOy",
        "outputId": "2834d043-2cf6-4477-ac16-896eac392427"
      },
      "source": [
        "training_data=data_generator.flow_from_directory(\n",
        "    image_dir_path,\n",
        "    seed=42,\n",
        "    target_size=(200,200),\n",
        "    batch_size=32,\n",
        "    class_mode='binary',\n",
        "    subset='training'\n",
        ")\n",
        "\n",
        "Validation_data=data_generator.flow_from_directory(\n",
        "    image_dir_path,\n",
        "    seed=42,\n",
        "    target_size=(200,200),\n",
        "    batch_size=32,\n",
        "    class_mode='binary',\n",
        "    subset='validation'\n",
        ")\n"
      ],
      "execution_count": 4,
      "outputs": [
        {
          "output_type": "stream",
          "text": [
            "Found 76 images belonging to 2 classes.\n",
            "Found 18 images belonging to 2 classes.\n"
          ],
          "name": "stdout"
        }
      ]
    },
    {
      "cell_type": "code",
      "metadata": {
        "id": "3CA4fZ2mBvhy"
      },
      "source": [
        "#using tensorflow sequential model\n",
        "seq_model=tf.keras.models.Sequential([\n",
        "    tf.keras.layers.Conv2D(32,(3,3),activation='relu',input_shape=(200,200,3)),\n",
        "    tf.keras.layers.MaxPooling2D(pool_size=(2,2)),\n",
        "    tf.keras.layers.Conv2D(64,(3,3),activation='relu'),\n",
        "    tf.keras.layers.MaxPooling2D(pool_size=(2,2)),\n",
        "    tf.keras.layers.Flatten(),\n",
        "    tf.keras.layers.Dense(128,activation='relu'),\n",
        "    tf.keras.layers.Dropout(0.5),\n",
        "    tf.keras.layers.Dense(2,activation='softmax')\n",
        "])\n",
        "seq_model.compile(optimizer='adam',loss='sparse_categorical_crossentropy',metrics=['accuracy'])\n"
      ],
      "execution_count": 11,
      "outputs": []
    },
    {
      "cell_type": "code",
      "metadata": {
        "colab": {
          "base_uri": "https://localhost:8080/"
        },
        "id": "uCsSQ6KhB4I3",
        "outputId": "0cd97016-dff4-4d94-87ae-2cc17ccf3673"
      },
      "source": [
        "trained_seq_model=seq_model.fit_generator(\n",
        "    training_data,\n",
        "    epochs=15,\n",
        "    validation_data=Validation_data)"
      ],
      "execution_count": 13,
      "outputs": [
        {
          "output_type": "stream",
          "text": [
            "/usr/local/lib/python3.7/dist-packages/tensorflow/python/keras/engine/training.py:1844: UserWarning: `Model.fit_generator` is deprecated and will be removed in a future version. Please use `Model.fit`, which supports generators.\n",
            "  warnings.warn('`Model.fit_generator` is deprecated and '\n"
          ],
          "name": "stderr"
        },
        {
          "output_type": "stream",
          "text": [
            "Epoch 1/15\n",
            "3/3 [==============================] - 8s 2s/step - loss: 0.2844 - accuracy: 0.8816 - val_loss: 0.1280 - val_accuracy: 1.0000\n",
            "Epoch 2/15\n",
            "3/3 [==============================] - 8s 2s/step - loss: 0.1208 - accuracy: 0.9605 - val_loss: 0.0592 - val_accuracy: 1.0000\n",
            "Epoch 3/15\n",
            "3/3 [==============================] - 8s 2s/step - loss: 0.1367 - accuracy: 0.9605 - val_loss: 0.1014 - val_accuracy: 0.9444\n",
            "Epoch 4/15\n",
            "3/3 [==============================] - 8s 3s/step - loss: 0.1748 - accuracy: 0.9605 - val_loss: 0.1346 - val_accuracy: 0.8889\n",
            "Epoch 5/15\n",
            "3/3 [==============================] - 8s 2s/step - loss: 0.1239 - accuracy: 0.9342 - val_loss: 0.0866 - val_accuracy: 0.9444\n",
            "Epoch 6/15\n",
            "3/3 [==============================] - 8s 3s/step - loss: 0.0758 - accuracy: 0.9868 - val_loss: 0.1064 - val_accuracy: 0.9444\n",
            "Epoch 7/15\n",
            "3/3 [==============================] - 8s 2s/step - loss: 0.1150 - accuracy: 0.9737 - val_loss: 0.0706 - val_accuracy: 1.0000\n",
            "Epoch 8/15\n",
            "3/3 [==============================] - 8s 2s/step - loss: 0.1360 - accuracy: 0.9474 - val_loss: 0.0467 - val_accuracy: 1.0000\n",
            "Epoch 9/15\n",
            "3/3 [==============================] - 8s 2s/step - loss: 0.0434 - accuracy: 0.9868 - val_loss: 0.0283 - val_accuracy: 1.0000\n",
            "Epoch 10/15\n",
            "3/3 [==============================] - 8s 2s/step - loss: 0.0617 - accuracy: 0.9868 - val_loss: 0.0649 - val_accuracy: 0.9444\n",
            "Epoch 11/15\n",
            "3/3 [==============================] - 8s 2s/step - loss: 0.0473 - accuracy: 0.9868 - val_loss: 0.0922 - val_accuracy: 0.9444\n",
            "Epoch 12/15\n",
            "3/3 [==============================] - 8s 2s/step - loss: 0.0808 - accuracy: 0.9737 - val_loss: 0.0371 - val_accuracy: 1.0000\n",
            "Epoch 13/15\n",
            "3/3 [==============================] - 8s 3s/step - loss: 0.0290 - accuracy: 1.0000 - val_loss: 0.0213 - val_accuracy: 1.0000\n",
            "Epoch 14/15\n",
            "3/3 [==============================] - 8s 2s/step - loss: 0.1956 - accuracy: 0.9079 - val_loss: 0.0039 - val_accuracy: 1.0000\n",
            "Epoch 15/15\n",
            "3/3 [==============================] - 8s 2s/step - loss: 0.0963 - accuracy: 0.9737 - val_loss: 0.2083 - val_accuracy: 0.8889\n"
          ],
          "name": "stdout"
        }
      ]
    },
    {
      "cell_type": "code",
      "metadata": {
        "colab": {
          "base_uri": "https://localhost:8080/"
        },
        "id": "XPHMnR4zIS1d",
        "outputId": "0c15d9d0-530d-403e-be30-7d3bb0cd12b4"
      },
      "source": [
        "seq_model.save('covid_classifier')"
      ],
      "execution_count": 14,
      "outputs": [
        {
          "output_type": "stream",
          "text": [
            "INFO:tensorflow:Assets written to: covid_classifier/assets\n"
          ],
          "name": "stdout"
        }
      ]
    },
    {
      "cell_type": "code",
      "metadata": {
        "colab": {
          "base_uri": "https://localhost:8080/"
        },
        "id": "oqtuuRExIXJH",
        "outputId": "bb8cb470-3d6e-4154-aa94-666a16ff0f7e"
      },
      "source": [
        "import numpy as np\n",
        "test_image=tf.keras.preprocessing.image.load_img('/content/drive/MyDrive/covid-19/covid_dataset/covid/1-s2.0-S0929664620300449-gr2_lrg-a.jpg',target_size=(200,200,3))\n",
        "test_image=tf.keras.preprocessing.image.img_to_array(test_image)\n",
        "test_image=np.expand_dims(test_image,axis=0)\n",
        "result=seq_model.predict(test_image)\n",
        "if result[0][0]==1:\n",
        "    print('Tested Positive for COVID')\n",
        "else:\n",
        "    print('Tested Negative For COVID')"
      ],
      "execution_count": 15,
      "outputs": [
        {
          "output_type": "stream",
          "text": [
            "Tested Positive for COVID\n"
          ],
          "name": "stdout"
        }
      ]
    }
  ]
}